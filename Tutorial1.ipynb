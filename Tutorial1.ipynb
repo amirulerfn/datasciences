{
  "nbformat": 4,
  "nbformat_minor": 0,
  "metadata": {
    "colab": {
      "provenance": [],
      "authorship_tag": "ABX9TyOF8Zzr8xzale8N4L9hpdst",
      "include_colab_link": true
    },
    "kernelspec": {
      "name": "python3",
      "display_name": "Python 3"
    },
    "language_info": {
      "name": "python"
    }
  },
  "cells": [
    {
      "cell_type": "markdown",
      "metadata": {
        "id": "view-in-github",
        "colab_type": "text"
      },
      "source": [
        "<a href=\"https://colab.research.google.com/github/amirulerfn/datasciences/blob/main/Tutorial1.ipynb\" target=\"_parent\"><img src=\"https://colab.research.google.com/assets/colab-badge.svg\" alt=\"Open In Colab\"/></a>"
      ]
    },
    {
      "cell_type": "code",
      "execution_count": null,
      "metadata": {
        "id": "qfYscVfmsz1U"
      },
      "outputs": [],
      "source": [
        "!git config --global user.email \"s21a0018@siswa.umk.edu.my\"\n",
        "!git config --global user.name \"Amirul Erfan\"\n"
      ]
    },
    {
      "cell_type": "code",
      "source": [
        "!git config --global init.defaultBranch main\n"
      ],
      "metadata": {
        "id": "-JnaKcSr1Efi"
      },
      "execution_count": null,
      "outputs": []
    },
    {
      "cell_type": "code",
      "source": [
        "!git init\n",
        "!git add README.md\n",
        "!git commit -m \"first commit\"\n",
        "!git branch -M main\n",
        "!git remote add origin git@github.com:amirulerfn/datascience.git\n",
        "!git push -u origin main\n"
      ],
      "metadata": {
        "id": "92F_bYly1Ihy",
        "outputId": "905b9457-0c7f-4191-c20e-ec63a43d5d86",
        "colab": {
          "base_uri": "https://localhost:8080/"
        }
      },
      "execution_count": null,
      "outputs": [
        {
          "output_type": "stream",
          "name": "stdout",
          "text": [
            "Reinitialized existing Git repository in /content/.git/\n",
            "[main (root-commit) 7381cd6] first commit\n",
            " 1 file changed, 1 insertion(+)\n",
            " create mode 100644 README.md\n",
            "error: remote origin already exists.\n",
            "Host key verification failed.\n",
            "fatal: Could not read from remote repository.\n",
            "\n",
            "Please make sure you have the correct access rights\n",
            "and the repository exists.\n"
          ]
        }
      ]
    }
  ]
}